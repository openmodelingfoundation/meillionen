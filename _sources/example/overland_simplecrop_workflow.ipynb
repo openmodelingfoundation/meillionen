{
 "cells": [
  {
   "cell_type": "markdown",
   "id": "9965fd0b",
   "metadata": {},
   "source": [
    "# Combining Overland Flow and Simple Crop\n",
    "\n",
    "## Running Overland Flow on its Own\n",
    "\n",
    "The overland flow model routes water over a landscape and determines how much water infiltrates particular cells in response to rain events and elevation data. Rainfall in this model is assumed to occur instantaneously and rainfall events are assumed to be independent (so a large rainfall event on a previous day has no bearing on the present day).\n",
    "\n",
    "In order to run the model we first need to import some source and sink types as well as classes for calling off to CLI models and building requests."
   ]
  },
  {
   "cell_type": "code",
   "execution_count": 1,
   "id": "a5dffb15",
   "metadata": {},
   "outputs": [],
   "source": [
    "import itertools\n",
    "import os.path\n",
    "import netCDF4\n",
    "\n",
    "from meillionen.interface.resource import Feather, NetCDF, OtherFile, Parquet\n",
    "from meillionen.interface.schema import PandasHandler, NetCDFHandler\n",
    "from meillionen.settings import Settings, Partitioning\n",
    "from meillionen.client import Client, CLIRef\n",
    "from prefect import task, Flow\n",
    "\n",
    "BASE_DIR = '../../examples/crop-pipeline'\n",
    "INPUT_DIR = os.path.join(BASE_DIR, 'workflows/inputs')\n",
    "OUTPUT_DIR = os.path.join(BASE_DIR, 'workflows/outputs')\n",
    "\n",
    "# using models as python models\n",
    "# for binder compatibility only (since it does not support poetry yet)\n",
    "OVERLANDFLOW = os.path.join(BASE_DIR, 'overlandflow/overlandflow_omf/cli.py')\n",
    "SIMPLECROP = os.path.join(BASE_DIR, 'simplecrop/simplecrop_omf/cli.py')\n",
    "ov_path = os.path.realpath(os.path.join(BASE_DIR, 'overlandflow'))\n",
    "sc_path = os.path.realpath(os.path.join(BASE_DIR, 'simplecrop'))\n",
    "os.environ['PYTHONPATH'] = f'{ov_path}:{sc_path}'\n",
    "\n",
    "# using models as python packages\n",
    "# need to poetry install simplecrop and overlandflow packages first\n",
    "# OVERLANDFLOW = \"overlandflow-omf\"\n",
    "# SIMPLECROP = \"simplecrop-omf\"\n",
    "\n",
    "settings = Settings(\n",
    "    base_path=OUTPUT_DIR\n",
    ")"
   ]
  },
  {
   "cell_type": "markdown",
   "id": "d885f448",
   "metadata": {},
   "source": [
    "and build a request to call our model with."
   ]
  },
  {
   "cell_type": "code",
   "execution_count": 2,
   "id": "190427d1",
   "metadata": {},
   "outputs": [
    {
     "data": {
      "text/plain": [
       "<meillionen.client.Client at 0x7f3e703ec5e0>"
      ]
     },
     "execution_count": 2,
     "metadata": {},
     "output_type": "execute_result"
    }
   ],
   "source": [
    "overlandflow = Client(CLIRef(OVERLANDFLOW), settings=settings)\n",
    "overlandflow"
   ]
  },
  {
   "cell_type": "markdown",
   "id": "ab210b77",
   "metadata": {},
   "source": [
    "Then call the overland flow model with our request (which will create files on the file system)"
   ]
  },
  {
   "cell_type": "code",
   "execution_count": 3,
   "id": "7057a9f3",
   "metadata": {},
   "outputs": [],
   "source": [
    "overland_payloads = overlandflow.run(\n",
    "    class_name='overlandflow',\n",
    "    method_name='run',\n",
    "    resource_payloads={\n",
    "        'elevation': OtherFile(os.path.join(INPUT_DIR, 'elevation.asc')),\n",
    "        'weather': Feather(os.path.join(INPUT_DIR, 'weather.feather')),\n",
    "        'soil_water_infiltration__depth': NetCDF.partial('swid')\n",
    "    }\n",
    ")"
   ]
  },
  {
   "cell_type": "markdown",
   "id": "24a3a740",
   "metadata": {},
   "source": [
    "## Running Simple Crop on its Own\n",
    "\n",
    "`simplecrop`  is a model of yearly crop growth that operates on the command line. When called in the current directory with no arguments it expects that there is a data folder. It expects that the data folder contains five files\n",
    "\n",
    "- `irrig.inp` - daily irrigation\n",
    "- `plant.inp` - plant growth parameters for the simulation\n",
    "- `simctrl.inp` - simulation reporting parameters\n",
    "- `soil.inp` - soil characteristic parameters for the simulation\n",
    "- `weather.inp` - daily weather data (with variables like maximum temperature, solar energy flux)\n",
    "\n",
    "`simplecrop` also expects there to be an output folder. After the model has run it will populate the output folder with three files\n",
    "\n",
    "- `plant.out`- daily plant characteristics\n",
    "- `soil.out` - daily soil characteristics\n",
    "- `wbal.out` - summary soil and plant statistics about simulation\n",
    "\n",
    "In order to wrap this model in an interface that allows you to run the model without manually building those input files and manually converting the output files into a format conducive to analysis we need to have a construct the input files and parse the output files. Fortunately we have such a model wrapper already."
   ]
  },
  {
   "cell_type": "code",
   "execution_count": 4,
   "id": "80868905",
   "metadata": {},
   "outputs": [],
   "source": [
    "import pandas as pd\n",
    "\n",
    "simple_crop = Client(CLIRef(SIMPLECROP), settings=settings)"
   ]
  },
  {
   "cell_type": "code",
   "execution_count": 5,
   "id": "7a697040",
   "metadata": {},
   "outputs": [],
   "source": [
    "simple_crop_response = simple_crop.run(\n",
    "    class_name='simplecrop',\n",
    "    method_name='run',\n",
    "    resource_payloads={\n",
    "        'daily': Feather(os.path.join(BASE_DIR, 'simplecrop/data/daily.feather')),\n",
    "        'yearly': Feather(os.path.join(BASE_DIR, 'simplecrop/data/yearly.feather')),\n",
    "        'plant': Feather.partial(),\n",
    "        'soil': Feather.partial(),\n",
    "        'raw': OtherFile.partial(ext='')\n",
    "    })"
   ]
  },
  {
   "cell_type": "code",
   "execution_count": 6,
   "id": "f95482f9",
   "metadata": {},
   "outputs": [
    {
     "data": {
      "text/html": [
       "<div>\n",
       "<style scoped>\n",
       "    .dataframe tbody tr th:only-of-type {\n",
       "        vertical-align: middle;\n",
       "    }\n",
       "\n",
       "    .dataframe tbody tr th {\n",
       "        vertical-align: top;\n",
       "    }\n",
       "\n",
       "    .dataframe thead th {\n",
       "        text-align: right;\n",
       "    }\n",
       "</style>\n",
       "<table border=\"1\" class=\"dataframe\">\n",
       "  <thead>\n",
       "    <tr style=\"text-align: right;\">\n",
       "      <th></th>\n",
       "      <th>day_of_year</th>\n",
       "      <th>soil_daily_runoff</th>\n",
       "      <th>soil_daily_infiltration</th>\n",
       "      <th>soil_daily_drainage</th>\n",
       "      <th>soil_evapotranspiration</th>\n",
       "      <th>soil_evaporation</th>\n",
       "      <th>plant_potential_transpiration</th>\n",
       "      <th>soil_water_storage_depth</th>\n",
       "      <th>soil_water_profile_ratio</th>\n",
       "      <th>soil_water_deficit_stress</th>\n",
       "      <th>soil_water_excess_stress</th>\n",
       "    </tr>\n",
       "  </thead>\n",
       "  <tbody>\n",
       "    <tr>\n",
       "      <th>0</th>\n",
       "      <td>3</td>\n",
       "      <td>0.0</td>\n",
       "      <td>0.0</td>\n",
       "      <td>1.86</td>\n",
       "      <td>2.25</td>\n",
       "      <td>2.23</td>\n",
       "      <td>0.02</td>\n",
       "      <td>260.97</td>\n",
       "      <td>1.800</td>\n",
       "      <td>1.000</td>\n",
       "      <td>1.0</td>\n",
       "    </tr>\n",
       "    <tr>\n",
       "      <th>1</th>\n",
       "      <td>6</td>\n",
       "      <td>0.0</td>\n",
       "      <td>0.0</td>\n",
       "      <td>2.25</td>\n",
       "      <td>2.64</td>\n",
       "      <td>2.62</td>\n",
       "      <td>0.02</td>\n",
       "      <td>264.09</td>\n",
       "      <td>1.821</td>\n",
       "      <td>1.000</td>\n",
       "      <td>1.0</td>\n",
       "    </tr>\n",
       "    <tr>\n",
       "      <th>2</th>\n",
       "      <td>9</td>\n",
       "      <td>0.0</td>\n",
       "      <td>0.0</td>\n",
       "      <td>0.94</td>\n",
       "      <td>1.32</td>\n",
       "      <td>1.31</td>\n",
       "      <td>0.01</td>\n",
       "      <td>253.64</td>\n",
       "      <td>1.749</td>\n",
       "      <td>1.000</td>\n",
       "      <td>1.0</td>\n",
       "    </tr>\n",
       "    <tr>\n",
       "      <th>3</th>\n",
       "      <td>12</td>\n",
       "      <td>0.0</td>\n",
       "      <td>0.0</td>\n",
       "      <td>0.57</td>\n",
       "      <td>2.56</td>\n",
       "      <td>2.53</td>\n",
       "      <td>0.02</td>\n",
       "      <td>249.09</td>\n",
       "      <td>1.718</td>\n",
       "      <td>1.000</td>\n",
       "      <td>1.0</td>\n",
       "    </tr>\n",
       "    <tr>\n",
       "      <th>4</th>\n",
       "      <td>15</td>\n",
       "      <td>0.0</td>\n",
       "      <td>0.0</td>\n",
       "      <td>0.00</td>\n",
       "      <td>1.94</td>\n",
       "      <td>1.89</td>\n",
       "      <td>0.02</td>\n",
       "      <td>241.54</td>\n",
       "      <td>1.666</td>\n",
       "      <td>1.000</td>\n",
       "      <td>1.0</td>\n",
       "    </tr>\n",
       "    <tr>\n",
       "      <th>...</th>\n",
       "      <td>...</td>\n",
       "      <td>...</td>\n",
       "      <td>...</td>\n",
       "      <td>...</td>\n",
       "      <td>...</td>\n",
       "      <td>...</td>\n",
       "      <td>...</td>\n",
       "      <td>...</td>\n",
       "      <td>...</td>\n",
       "      <td>...</td>\n",
       "      <td>...</td>\n",
       "    </tr>\n",
       "    <tr>\n",
       "      <th>94</th>\n",
       "      <td>282</td>\n",
       "      <td>0.0</td>\n",
       "      <td>0.0</td>\n",
       "      <td>0.00</td>\n",
       "      <td>4.04</td>\n",
       "      <td>0.61</td>\n",
       "      <td>1.55</td>\n",
       "      <td>154.76</td>\n",
       "      <td>1.067</td>\n",
       "      <td>0.566</td>\n",
       "      <td>1.0</td>\n",
       "    </tr>\n",
       "    <tr>\n",
       "      <th>95</th>\n",
       "      <td>285</td>\n",
       "      <td>0.0</td>\n",
       "      <td>0.0</td>\n",
       "      <td>0.00</td>\n",
       "      <td>1.64</td>\n",
       "      <td>0.26</td>\n",
       "      <td>0.56</td>\n",
       "      <td>152.05</td>\n",
       "      <td>1.049</td>\n",
       "      <td>0.544</td>\n",
       "      <td>1.0</td>\n",
       "    </tr>\n",
       "    <tr>\n",
       "      <th>96</th>\n",
       "      <td>288</td>\n",
       "      <td>0.0</td>\n",
       "      <td>0.0</td>\n",
       "      <td>0.00</td>\n",
       "      <td>2.92</td>\n",
       "      <td>0.46</td>\n",
       "      <td>0.88</td>\n",
       "      <td>146.65</td>\n",
       "      <td>1.011</td>\n",
       "      <td>0.499</td>\n",
       "      <td>1.0</td>\n",
       "    </tr>\n",
       "    <tr>\n",
       "      <th>97</th>\n",
       "      <td>291</td>\n",
       "      <td>0.0</td>\n",
       "      <td>0.0</td>\n",
       "      <td>0.00</td>\n",
       "      <td>4.84</td>\n",
       "      <td>0.75</td>\n",
       "      <td>1.25</td>\n",
       "      <td>140.73</td>\n",
       "      <td>0.971</td>\n",
       "      <td>0.449</td>\n",
       "      <td>1.0</td>\n",
       "    </tr>\n",
       "    <tr>\n",
       "      <th>98</th>\n",
       "      <td>293</td>\n",
       "      <td>0.0</td>\n",
       "      <td>0.0</td>\n",
       "      <td>0.00</td>\n",
       "      <td>4.18</td>\n",
       "      <td>0.65</td>\n",
       "      <td>0.95</td>\n",
       "      <td>137.47</td>\n",
       "      <td>0.948</td>\n",
       "      <td>0.422</td>\n",
       "      <td>1.0</td>\n",
       "    </tr>\n",
       "  </tbody>\n",
       "</table>\n",
       "<p>99 rows × 11 columns</p>\n",
       "</div>"
      ],
      "text/plain": [
       "    day_of_year  soil_daily_runoff  soil_daily_infiltration  \\\n",
       "0             3                0.0                      0.0   \n",
       "1             6                0.0                      0.0   \n",
       "2             9                0.0                      0.0   \n",
       "3            12                0.0                      0.0   \n",
       "4            15                0.0                      0.0   \n",
       "..          ...                ...                      ...   \n",
       "94          282                0.0                      0.0   \n",
       "95          285                0.0                      0.0   \n",
       "96          288                0.0                      0.0   \n",
       "97          291                0.0                      0.0   \n",
       "98          293                0.0                      0.0   \n",
       "\n",
       "    soil_daily_drainage  soil_evapotranspiration  soil_evaporation  \\\n",
       "0                  1.86                     2.25              2.23   \n",
       "1                  2.25                     2.64              2.62   \n",
       "2                  0.94                     1.32              1.31   \n",
       "3                  0.57                     2.56              2.53   \n",
       "4                  0.00                     1.94              1.89   \n",
       "..                  ...                      ...               ...   \n",
       "94                 0.00                     4.04              0.61   \n",
       "95                 0.00                     1.64              0.26   \n",
       "96                 0.00                     2.92              0.46   \n",
       "97                 0.00                     4.84              0.75   \n",
       "98                 0.00                     4.18              0.65   \n",
       "\n",
       "    plant_potential_transpiration  soil_water_storage_depth  \\\n",
       "0                            0.02                    260.97   \n",
       "1                            0.02                    264.09   \n",
       "2                            0.01                    253.64   \n",
       "3                            0.02                    249.09   \n",
       "4                            0.02                    241.54   \n",
       "..                            ...                       ...   \n",
       "94                           1.55                    154.76   \n",
       "95                           0.56                    152.05   \n",
       "96                           0.88                    146.65   \n",
       "97                           1.25                    140.73   \n",
       "98                           0.95                    137.47   \n",
       "\n",
       "    soil_water_profile_ratio  soil_water_deficit_stress  \\\n",
       "0                      1.800                      1.000   \n",
       "1                      1.821                      1.000   \n",
       "2                      1.749                      1.000   \n",
       "3                      1.718                      1.000   \n",
       "4                      1.666                      1.000   \n",
       "..                       ...                        ...   \n",
       "94                     1.067                      0.566   \n",
       "95                     1.049                      0.544   \n",
       "96                     1.011                      0.499   \n",
       "97                     0.971                      0.449   \n",
       "98                     0.948                      0.422   \n",
       "\n",
       "    soil_water_excess_stress  \n",
       "0                        1.0  \n",
       "1                        1.0  \n",
       "2                        1.0  \n",
       "3                        1.0  \n",
       "4                        1.0  \n",
       "..                       ...  \n",
       "94                       1.0  \n",
       "95                       1.0  \n",
       "96                       1.0  \n",
       "97                       1.0  \n",
       "98                       1.0  \n",
       "\n",
       "[99 rows x 11 columns]"
      ]
     },
     "execution_count": 6,
     "metadata": {},
     "output_type": "execute_result"
    }
   ],
   "source": [
    "soil_df = simple_crop_response.load('soil')\n",
    "soil_df"
   ]
  },
  {
   "cell_type": "markdown",
   "id": "5f5f6bd7",
   "metadata": {},
   "source": [
    "## Using Prefect to Feed Overland Flow Results into Simple Crop\n",
    "\n",
    "Now we'll combine overlandflow with simplecrop. This will require an adapter to augment the daily source data fed into simplecrop with the depth of water that has infiltrated that cell. The workflow is shown below  without the details of calling simplecrop for each x, y coordinate in the map.\n",
    "\n",
    "![workflow](workflow.svg)"
   ]
  },
  {
   "cell_type": "code",
   "execution_count": 7,
   "id": "82dd6401",
   "metadata": {},
   "outputs": [],
   "source": [
    "import pyarrow as pa\n",
    "import pandas as pd\n",
    "import pathlib\n",
    "from meillionen.interface.base import MethodRequestArg\n",
    "\n",
    "trial = settings.trial(\"simplecrop-parallelism\")\n",
    "\n",
    "overlandflow = Client(CLIRef(OVERLANDFLOW), settings=trial)\n",
    "\n",
    "simplecrop_partitioning = Partitioning(\n",
    "    pa.schema([(\"x\", pa.int32()), (\"y\", pa.int32())]))\n",
    "\n",
    "simple_crop = Client(CLIRef(SIMPLECROP), settings=trial)"
   ]
  },
  {
   "cell_type": "code",
   "execution_count": 8,
   "id": "926608c2",
   "metadata": {},
   "outputs": [
    {
     "name": "stdout",
     "output_type": "stream",
     "text": [
      "[2021-10-08 14:53:22-0700] INFO - prefect.FlowRunner | Beginning Flow run for 'crop_pipeline'\n"
     ]
    },
    {
     "name": "stdout",
     "output_type": "stream",
     "text": [
      "[2021-10-08 14:53:22-0700] INFO - prefect.TaskRunner | Task 'run_overland_flow': Starting task run...\n"
     ]
    },
    {
     "name": "stdout",
     "output_type": "stream",
     "text": [
      "[2021-10-08 14:53:27-0700] INFO - prefect.TaskRunner | Task 'run_overland_flow': Finished task run for task with final state: 'Success'\n"
     ]
    },
    {
     "name": "stdout",
     "output_type": "stream",
     "text": [
      "[2021-10-08 14:53:27-0700] INFO - prefect.TaskRunner | Task 'chunkify_soil_water_infiltration_depth': Starting task run...\n"
     ]
    },
    {
     "name": "stdout",
     "output_type": "stream",
     "text": [
      "[2021-10-08 14:53:27-0700] INFO - prefect.TaskRunner | Task 'chunkify_soil_water_infiltration_depth': Finished task run for task with final state: 'Success'\n"
     ]
    },
    {
     "name": "stdout",
     "output_type": "stream",
     "text": [
      "[2021-10-08 14:53:27-0700] INFO - prefect.TaskRunner | Task 'simplecrop_process_chunk': Starting task run...\n"
     ]
    },
    {
     "name": "stdout",
     "output_type": "stream",
     "text": [
      "[2021-10-08 14:53:27-0700] INFO - prefect.TaskRunner | Task 'simplecrop_process_chunk': Finished task run for task with final state: 'Mapped'\n"
     ]
    },
    {
     "name": "stdout",
     "output_type": "stream",
     "text": [
      "[2021-10-08 14:53:27-0700] INFO - prefect.TaskRunner | Task 'simplecrop_process_chunk[0]': Starting task run...\n"
     ]
    },
    {
     "name": "stdout",
     "output_type": "stream",
     "text": [
      "[2021-10-08 14:53:28-0700] INFO - prefect.TaskRunner | Task 'simplecrop_process_chunk[0]': Finished task run for task with final state: 'Success'\n"
     ]
    },
    {
     "name": "stdout",
     "output_type": "stream",
     "text": [
      "[2021-10-08 14:53:28-0700] INFO - prefect.TaskRunner | Task 'simplecrop_process_chunk[1]': Starting task run...\n"
     ]
    },
    {
     "name": "stdout",
     "output_type": "stream",
     "text": [
      "[2021-10-08 14:53:30-0700] INFO - prefect.TaskRunner | Task 'simplecrop_process_chunk[1]': Finished task run for task with final state: 'Success'\n"
     ]
    },
    {
     "name": "stdout",
     "output_type": "stream",
     "text": [
      "[2021-10-08 14:53:30-0700] INFO - prefect.TaskRunner | Task 'simplecrop_process_chunk[2]': Starting task run...\n"
     ]
    },
    {
     "name": "stdout",
     "output_type": "stream",
     "text": [
      "[2021-10-08 14:53:31-0700] INFO - prefect.TaskRunner | Task 'simplecrop_process_chunk[2]': Finished task run for task with final state: 'Success'\n"
     ]
    },
    {
     "name": "stdout",
     "output_type": "stream",
     "text": [
      "[2021-10-08 14:53:31-0700] INFO - prefect.TaskRunner | Task 'simplecrop_process_chunk[3]': Starting task run...\n"
     ]
    },
    {
     "name": "stdout",
     "output_type": "stream",
     "text": [
      "[2021-10-08 14:53:33-0700] INFO - prefect.TaskRunner | Task 'simplecrop_process_chunk[3]': Finished task run for task with final state: 'Success'\n"
     ]
    },
    {
     "name": "stdout",
     "output_type": "stream",
     "text": [
      "[2021-10-08 14:53:33-0700] INFO - prefect.TaskRunner | Task 'simplecrop_process_chunk[4]': Starting task run...\n"
     ]
    },
    {
     "name": "stdout",
     "output_type": "stream",
     "text": [
      "[2021-10-08 14:53:34-0700] INFO - prefect.TaskRunner | Task 'simplecrop_process_chunk[4]': Finished task run for task with final state: 'Success'\n"
     ]
    },
    {
     "name": "stdout",
     "output_type": "stream",
     "text": [
      "[2021-10-08 14:53:34-0700] INFO - prefect.TaskRunner | Task 'simplecrop_process_chunk[5]': Starting task run...\n"
     ]
    },
    {
     "name": "stdout",
     "output_type": "stream",
     "text": [
      "[2021-10-08 14:53:36-0700] INFO - prefect.TaskRunner | Task 'simplecrop_process_chunk[5]': Finished task run for task with final state: 'Success'\n"
     ]
    },
    {
     "name": "stdout",
     "output_type": "stream",
     "text": [
      "[2021-10-08 14:53:36-0700] INFO - prefect.TaskRunner | Task 'simplecrop_process_chunk[6]': Starting task run...\n"
     ]
    },
    {
     "name": "stdout",
     "output_type": "stream",
     "text": [
      "[2021-10-08 14:53:37-0700] INFO - prefect.TaskRunner | Task 'simplecrop_process_chunk[6]': Finished task run for task with final state: 'Success'\n"
     ]
    },
    {
     "name": "stdout",
     "output_type": "stream",
     "text": [
      "[2021-10-08 14:53:37-0700] INFO - prefect.TaskRunner | Task 'simplecrop_process_chunk[7]': Starting task run...\n"
     ]
    },
    {
     "name": "stdout",
     "output_type": "stream",
     "text": [
      "[2021-10-08 14:53:39-0700] INFO - prefect.TaskRunner | Task 'simplecrop_process_chunk[7]': Finished task run for task with final state: 'Success'\n"
     ]
    },
    {
     "name": "stdout",
     "output_type": "stream",
     "text": [
      "[2021-10-08 14:53:39-0700] INFO - prefect.TaskRunner | Task 'simplecrop_process_chunk[8]': Starting task run...\n"
     ]
    },
    {
     "name": "stdout",
     "output_type": "stream",
     "text": [
      "[2021-10-08 14:53:40-0700] INFO - prefect.TaskRunner | Task 'simplecrop_process_chunk[8]': Finished task run for task with final state: 'Success'\n"
     ]
    },
    {
     "name": "stdout",
     "output_type": "stream",
     "text": [
      "[2021-10-08 14:53:40-0700] INFO - prefect.FlowRunner | Flow run SUCCESS: all reference tasks succeeded\n"
     ]
    },
    {
     "data": {
      "text/plain": [
       "<Success: \"All reference tasks succeeded.\">"
      ]
     },
     "execution_count": 8,
     "metadata": {},
     "output_type": "execute_result"
    }
   ],
   "source": [
    "daily_df = pd.read_feather(os.path.join(BASE_DIR, 'simplecrop/data/daily.feather'))\n",
    "yearly = Feather(os.path.join(BASE_DIR, 'simplecrop/data/yearly.feather'))\n",
    "        \n",
    "@task()\n",
    "def run_overland_flow():\n",
    "    partial_resource_payloads = {\n",
    "        'elevation': OtherFile(os.path.join(INPUT_DIR, 'elevation.asc')),\n",
    "        'weather': Feather(os.path.join(INPUT_DIR, 'weather.feather')),\n",
    "        'soil_water_infiltration__depth': NetCDF.partial(variable='swid')\n",
    "    }\n",
    "\n",
    "    response = overlandflow.run(\n",
    "        class_name='overlandflow',\n",
    "        method_name='run',\n",
    "        resource_payloads=partial_resource_payloads\n",
    "    )\n",
    "\n",
    "    return response.load('soil_water_infiltration__depth')\n",
    "\n",
    "\n",
    "@task()\n",
    "def chunkify_soil_water_infiltration_depth(swid):\n",
    "    return [{'soil_water_infiltration__depth': swid[x, y, :], 'x': x, 'y': y}\n",
    "            for (x,y) in itertools.product(range(10,13), range(21,24))]\n",
    "\n",
    "\n",
    "@task()\n",
    "def simplecrop_process_chunk(data):\n",
    "    soil_water_infiltration__depth = data['soil_water_infiltration__depth']\n",
    "    x, y = data['x'], data['y']\n",
    "    partition = simplecrop_partitioning.complete(x=x, y=y)\n",
    "    daily_xy_df = daily_df.assign(rainfall=soil_water_infiltration__depth)\n",
    "    daily = simple_crop.save(\n",
    "        mra=MethodRequestArg(class_name='simplecrop', method_name='run', arg_name='daily'),\n",
    "        resource=Feather.partial(),\n",
    "        data=daily_xy_df,\n",
    "        partition=partition)\n",
    "    \n",
    "    resource_payloads = {\n",
    "        'daily': daily,\n",
    "        'yearly': yearly,\n",
    "        'plant': Parquet.partial(),\n",
    "        'soil': Parquet.partial(),\n",
    "        'raw': OtherFile.partial(ext='')\n",
    "    }\n",
    "\n",
    "    response = simple_crop.run(\n",
    "        class_name='simplecrop',\n",
    "        method_name='run',\n",
    "        resource_payloads=resource_payloads,\n",
    "        partition=partition)\n",
    "\n",
    "with Flow('crop_pipeline') as flow:\n",
    "    overland_flow = run_overland_flow()\n",
    "    surface_water_depth_chunks = chunkify_soil_water_infiltration_depth(overland_flow)\n",
    "    yield_chunks = simplecrop_process_chunk.map(surface_water_depth_chunks)\n",
    "\n",
    "flow.run()"
   ]
  },
  {
   "cell_type": "code",
   "execution_count": 9,
   "id": "cf2660fd",
   "metadata": {},
   "outputs": [
    {
     "data": {
      "text/html": [
       "<div>\n",
       "<style scoped>\n",
       "    .dataframe tbody tr th:only-of-type {\n",
       "        vertical-align: middle;\n",
       "    }\n",
       "\n",
       "    .dataframe tbody tr th {\n",
       "        vertical-align: top;\n",
       "    }\n",
       "\n",
       "    .dataframe thead th {\n",
       "        text-align: right;\n",
       "    }\n",
       "</style>\n",
       "<table border=\"1\" class=\"dataframe\">\n",
       "  <thead>\n",
       "    <tr style=\"text-align: right;\">\n",
       "      <th></th>\n",
       "      <th>day_of_year</th>\n",
       "      <th>plant_leaf_count</th>\n",
       "      <th>air_accumulated_temp</th>\n",
       "      <th>plant_matter</th>\n",
       "      <th>plant_matter_canopy</th>\n",
       "      <th>plant_matter_fruit</th>\n",
       "      <th>plant_matter_root</th>\n",
       "      <th>plant_leaf_area_index</th>\n",
       "      <th>x</th>\n",
       "      <th>y</th>\n",
       "    </tr>\n",
       "  </thead>\n",
       "  <tbody>\n",
       "    <tr>\n",
       "      <th>0</th>\n",
       "      <td>121</td>\n",
       "      <td>2.00</td>\n",
       "      <td>0.00</td>\n",
       "      <td>0.30</td>\n",
       "      <td>0.25</td>\n",
       "      <td>0.05</td>\n",
       "      <td>0.00</td>\n",
       "      <td>0.01</td>\n",
       "      <td>10</td>\n",
       "      <td>21</td>\n",
       "    </tr>\n",
       "    <tr>\n",
       "      <th>1</th>\n",
       "      <td>123</td>\n",
       "      <td>2.20</td>\n",
       "      <td>0.00</td>\n",
       "      <td>0.65</td>\n",
       "      <td>0.55</td>\n",
       "      <td>0.10</td>\n",
       "      <td>0.00</td>\n",
       "      <td>0.02</td>\n",
       "      <td>10</td>\n",
       "      <td>21</td>\n",
       "    </tr>\n",
       "    <tr>\n",
       "      <th>2</th>\n",
       "      <td>126</td>\n",
       "      <td>2.50</td>\n",
       "      <td>0.00</td>\n",
       "      <td>1.20</td>\n",
       "      <td>1.02</td>\n",
       "      <td>0.18</td>\n",
       "      <td>0.00</td>\n",
       "      <td>0.03</td>\n",
       "      <td>10</td>\n",
       "      <td>21</td>\n",
       "    </tr>\n",
       "    <tr>\n",
       "      <th>3</th>\n",
       "      <td>129</td>\n",
       "      <td>2.79</td>\n",
       "      <td>0.00</td>\n",
       "      <td>1.91</td>\n",
       "      <td>1.62</td>\n",
       "      <td>0.29</td>\n",
       "      <td>0.00</td>\n",
       "      <td>0.04</td>\n",
       "      <td>10</td>\n",
       "      <td>21</td>\n",
       "    </tr>\n",
       "    <tr>\n",
       "      <th>4</th>\n",
       "      <td>132</td>\n",
       "      <td>3.09</td>\n",
       "      <td>0.00</td>\n",
       "      <td>2.80</td>\n",
       "      <td>2.38</td>\n",
       "      <td>0.42</td>\n",
       "      <td>0.00</td>\n",
       "      <td>0.06</td>\n",
       "      <td>10</td>\n",
       "      <td>21</td>\n",
       "    </tr>\n",
       "    <tr>\n",
       "      <th>...</th>\n",
       "      <td>...</td>\n",
       "      <td>...</td>\n",
       "      <td>...</td>\n",
       "      <td>...</td>\n",
       "      <td>...</td>\n",
       "      <td>...</td>\n",
       "      <td>...</td>\n",
       "      <td>...</td>\n",
       "      <td>...</td>\n",
       "      <td>...</td>\n",
       "    </tr>\n",
       "    <tr>\n",
       "      <th>526</th>\n",
       "      <td>282</td>\n",
       "      <td>12.06</td>\n",
       "      <td>186.05</td>\n",
       "      <td>1130.70</td>\n",
       "      <td>465.39</td>\n",
       "      <td>82.13</td>\n",
       "      <td>583.19</td>\n",
       "      <td>1.49</td>\n",
       "      <td>12</td>\n",
       "      <td>23</td>\n",
       "    </tr>\n",
       "    <tr>\n",
       "      <th>527</th>\n",
       "      <td>285</td>\n",
       "      <td>12.06</td>\n",
       "      <td>223.00</td>\n",
       "      <td>1138.88</td>\n",
       "      <td>465.39</td>\n",
       "      <td>82.13</td>\n",
       "      <td>591.36</td>\n",
       "      <td>1.34</td>\n",
       "      <td>12</td>\n",
       "      <td>23</td>\n",
       "    </tr>\n",
       "    <tr>\n",
       "      <th>528</th>\n",
       "      <td>288</td>\n",
       "      <td>12.06</td>\n",
       "      <td>243.50</td>\n",
       "      <td>1154.41</td>\n",
       "      <td>465.39</td>\n",
       "      <td>82.13</td>\n",
       "      <td>606.90</td>\n",
       "      <td>1.25</td>\n",
       "      <td>12</td>\n",
       "      <td>23</td>\n",
       "    </tr>\n",
       "    <tr>\n",
       "      <th>529</th>\n",
       "      <td>291</td>\n",
       "      <td>12.06</td>\n",
       "      <td>277.65</td>\n",
       "      <td>1170.74</td>\n",
       "      <td>465.39</td>\n",
       "      <td>82.13</td>\n",
       "      <td>623.22</td>\n",
       "      <td>1.11</td>\n",
       "      <td>12</td>\n",
       "      <td>23</td>\n",
       "    </tr>\n",
       "    <tr>\n",
       "      <th>530</th>\n",
       "      <td>293</td>\n",
       "      <td>12.06</td>\n",
       "      <td>304.90</td>\n",
       "      <td>1178.78</td>\n",
       "      <td>465.39</td>\n",
       "      <td>82.13</td>\n",
       "      <td>631.27</td>\n",
       "      <td>0.99</td>\n",
       "      <td>12</td>\n",
       "      <td>23</td>\n",
       "    </tr>\n",
       "  </tbody>\n",
       "</table>\n",
       "<p>531 rows × 10 columns</p>\n",
       "</div>"
      ],
      "text/plain": [
       "     day_of_year  plant_leaf_count  air_accumulated_temp  plant_matter  \\\n",
       "0            121              2.00                  0.00          0.30   \n",
       "1            123              2.20                  0.00          0.65   \n",
       "2            126              2.50                  0.00          1.20   \n",
       "3            129              2.79                  0.00          1.91   \n",
       "4            132              3.09                  0.00          2.80   \n",
       "..           ...               ...                   ...           ...   \n",
       "526          282             12.06                186.05       1130.70   \n",
       "527          285             12.06                223.00       1138.88   \n",
       "528          288             12.06                243.50       1154.41   \n",
       "529          291             12.06                277.65       1170.74   \n",
       "530          293             12.06                304.90       1178.78   \n",
       "\n",
       "     plant_matter_canopy  plant_matter_fruit  plant_matter_root  \\\n",
       "0                   0.25                0.05               0.00   \n",
       "1                   0.55                0.10               0.00   \n",
       "2                   1.02                0.18               0.00   \n",
       "3                   1.62                0.29               0.00   \n",
       "4                   2.38                0.42               0.00   \n",
       "..                   ...                 ...                ...   \n",
       "526               465.39               82.13             583.19   \n",
       "527               465.39               82.13             591.36   \n",
       "528               465.39               82.13             606.90   \n",
       "529               465.39               82.13             623.22   \n",
       "530               465.39               82.13             631.27   \n",
       "\n",
       "     plant_leaf_area_index   x   y  \n",
       "0                     0.01  10  21  \n",
       "1                     0.02  10  21  \n",
       "2                     0.03  10  21  \n",
       "3                     0.04  10  21  \n",
       "4                     0.06  10  21  \n",
       "..                     ...  ..  ..  \n",
       "526                   1.49  12  23  \n",
       "527                   1.34  12  23  \n",
       "528                   1.25  12  23  \n",
       "529                   1.11  12  23  \n",
       "530                   0.99  12  23  \n",
       "\n",
       "[531 rows x 10 columns]"
      ]
     },
     "execution_count": 9,
     "metadata": {},
     "output_type": "execute_result"
    }
   ],
   "source": [
    "from pyarrow.dataset import dataset\n",
    "\n",
    "plant_df = dataset(\n",
    "    os.path.join(OUTPUT_DIR, 'simplecrop-parallelism/simplecrop/run/plant'),\n",
    "    partitioning=simplecrop_partitioning.to_arrow()).to_table().to_pandas()\n",
    "plant_df"
   ]
  }
 ],
 "metadata": {
  "jupytext": {
   "text_representation": {
    "extension": ".md",
    "format_name": "myst",
    "format_version": 0.13,
    "jupytext_version": "1.10.3"
   }
  },
  "kernelspec": {
   "display_name": "Python 3 (ipykernel)",
   "language": "python",
   "name": "python3"
  },
  "language_info": {
   "codemirror_mode": {
    "name": "ipython",
    "version": 3
   },
   "file_extension": ".py",
   "mimetype": "text/x-python",
   "name": "python",
   "nbconvert_exporter": "python",
   "pygments_lexer": "ipython3",
   "version": "3.9.7"
  },
  "source_map": [
   12,
   22,
   53,
   57,
   60,
   64,
   74,
   94,
   100,
   113,
   116,
   124,
   140,
   201
  ]
 },
 "nbformat": 4,
 "nbformat_minor": 5
}